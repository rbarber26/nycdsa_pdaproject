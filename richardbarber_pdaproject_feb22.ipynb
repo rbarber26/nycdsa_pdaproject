{
 "cells": [
  {
   "cell_type": "markdown",
   "id": "24e40a48",
   "metadata": {},
   "source": [
    "Overall objective is to identify factors that increase risk of heart disease. Questions to explore in analyzing the data:\n",
    "\n",
    "Does age, race, or sex play a role in risk of heart disease? \n",
    "How does lifestyle impact risk of heart disease?\n",
    "Are you more likely to get heart disease if you have another serious medical condition? "
   ]
  },
  {
   "cell_type": "code",
   "execution_count": 1183,
   "id": "8658f70d",
   "metadata": {
    "scrolled": true
   },
   "outputs": [],
   "source": [
    "import pandas as pd\n",
    "import numpy as np\n",
    "from matplotlib import pyplot as plt\n",
    "plt.style.use('ggplot')\n",
    "%matplotlib inline\n",
    "\n",
    "dataset = pd.read_csv('heart_2020_cleaned.csv')"
   ]
  },
  {
   "cell_type": "markdown",
   "id": "0cdda608",
   "metadata": {},
   "source": [
    "Initial exploration of the data. Review the disparate values for each feature and keep an eye out for null and/or invalid values."
   ]
  },
  {
   "cell_type": "code",
   "execution_count": 1145,
   "id": "f65d14f8",
   "metadata": {
    "scrolled": true
   },
   "outputs": [
    {
     "data": {
      "text/plain": [
       "No     289976\n",
       "Yes     29819\n",
       "Name: SkinCancer, dtype: int64"
      ]
     },
     "execution_count": 1145,
     "metadata": {},
     "output_type": "execute_result"
    }
   ],
   "source": [
    "dataset.describe()\n",
    "\n",
    "dataset['HeartDisease'].value_counts()\n",
    "dataset['Smoking'].value_counts()\n",
    "dataset['AlcoholDrinking'].value_counts()\n",
    "dataset['Stroke'].value_counts()\n",
    "dataset['DiffWalking'].value_counts()\n",
    "dataset['Sex'].value_counts()\n",
    "dataset['AgeCategory'].value_counts()\n",
    "dataset['Race'].value_counts()\n",
    "dataset['Diabetic'].value_counts()\n",
    "dataset['PhysicalActivity'].value_counts()\n",
    "dataset['GenHealth'].value_counts()\n",
    "dataset['Asthma'].value_counts()\n",
    "dataset['KidneyDisease'].value_counts()\n",
    "dataset['SkinCancer'].value_counts()\n"
   ]
  },
  {
   "cell_type": "code",
   "execution_count": 1144,
   "id": "7f232474",
   "metadata": {
    "scrolled": false
   },
   "outputs": [
    {
     "data": {
      "text/plain": [
       "43.74677527791241"
      ]
     },
     "execution_count": 1144,
     "metadata": {},
     "output_type": "execute_result"
    }
   ],
   "source": [
    "stroke = dataset['Stroke'].value_counts()[1]\n",
    "diabetic = dataset['Diabetic'].value_counts()[1] + dataset['Diabetic'].value_counts()[3]\n",
    "asthma = dataset['Asthma'].value_counts()[1]\n",
    "kidneydis = dataset['KidneyDisease'].value_counts()[1]\n",
    "skincancer = dataset['SkinCancer'].value_counts()[1]\n",
    "\n",
    "other_cond = stroke + diabetic + asthma + kidneydis + skincancer\n",
    "\n",
    "other_cond / dataset.shape[0] * 100"
   ]
  },
  {
   "cell_type": "markdown",
   "id": "f51d1d5b",
   "metadata": {},
   "source": [
    "Next, analyze data to explore relationship between demographic info and rate of heart disease. "
   ]
  },
  {
   "cell_type": "code",
   "execution_count": 237,
   "id": "f60774aa",
   "metadata": {
    "scrolled": true
   },
   "outputs": [
    {
     "data": {
      "text/html": [
       "<div>\n",
       "<style scoped>\n",
       "    .dataframe tbody tr th:only-of-type {\n",
       "        vertical-align: middle;\n",
       "    }\n",
       "\n",
       "    .dataframe tbody tr th {\n",
       "        vertical-align: top;\n",
       "    }\n",
       "\n",
       "    .dataframe thead th {\n",
       "        text-align: right;\n",
       "    }\n",
       "</style>\n",
       "<table border=\"1\" class=\"dataframe\">\n",
       "  <thead>\n",
       "    <tr style=\"text-align: right;\">\n",
       "      <th></th>\n",
       "      <th>Num Respondents</th>\n",
       "      <th>Share of Total</th>\n",
       "      <th>Respondents w. HD</th>\n",
       "      <th>Share of Total w. HD</th>\n",
       "    </tr>\n",
       "    <tr>\n",
       "      <th>Sex</th>\n",
       "      <th></th>\n",
       "      <th></th>\n",
       "      <th></th>\n",
       "      <th></th>\n",
       "    </tr>\n",
       "  </thead>\n",
       "  <tbody>\n",
       "    <tr>\n",
       "      <th>Female</th>\n",
       "      <td>167805</td>\n",
       "      <td>52.47</td>\n",
       "      <td>11234</td>\n",
       "      <td>41.04</td>\n",
       "    </tr>\n",
       "    <tr>\n",
       "      <th>Male</th>\n",
       "      <td>151990</td>\n",
       "      <td>47.53</td>\n",
       "      <td>16139</td>\n",
       "      <td>58.96</td>\n",
       "    </tr>\n",
       "  </tbody>\n",
       "</table>\n",
       "</div>"
      ],
      "text/plain": [
       "        Num Respondents  Share of Total  Respondents w. HD  \\\n",
       "Sex                                                          \n",
       "Female           167805           52.47              11234   \n",
       "Male             151990           47.53              16139   \n",
       "\n",
       "        Share of Total w. HD  \n",
       "Sex                           \n",
       "Female                 41.04  \n",
       "Male                   58.96  "
      ]
     },
     "execution_count": 237,
     "metadata": {},
     "output_type": "execute_result"
    }
   ],
   "source": [
    "subset = dataset[['Sex', 'HeartDisease']] # subset of original data, looking at sex & heart disease status\n",
    "total_resp = subset.shape[0]\n",
    "\n",
    "sex_split = subset.groupby('Sex').count()\n",
    "sex_split.columns = sex_split.columns.str.replace('HeartDisease', 'Num Respondents')\n",
    "sex_split['Share of Total'] = sex_split.apply(lambda x: round((x / total_resp) * 100, 2), axis = 0) # add new column that calculates % of total respondents by sex\n",
    "\n",
    "\"\"\"\n",
    "Create new dataframe breaking out respondents with heart disease, by sex.\n",
    "\"\"\"\n",
    "has_hd = subset[subset['HeartDisease'] == 'Yes'] # total respondents w. heart disease, broken out by sex\n",
    "has_hd_total = has_hd.shape[0]\n",
    "\n",
    "has_hd_sex = has_hd.groupby('Sex').count()\n",
    "has_hd_sex.columns = has_hd_sex.columns.str.replace('HeartDisease', 'Respondents w. HD')\n",
    "has_hd_sex['Share of Total w. HD'] = has_hd_sex.apply(lambda x: round((x / has_hd_total) * 100, 2), axis = 0)\n",
    "\n",
    "\"\"\"\n",
    "Concatenate both dataframes\n",
    "\"\"\"\n",
    "\n",
    "pd.concat([sex_split, has_hd_sex], axis = 1, join = 'inner')\n",
    "\n"
   ]
  },
  {
   "cell_type": "code",
   "execution_count": 261,
   "id": "2e4ad523",
   "metadata": {
    "scrolled": false
   },
   "outputs": [
    {
     "data": {
      "text/html": [
       "<div>\n",
       "<style scoped>\n",
       "    .dataframe tbody tr th:only-of-type {\n",
       "        vertical-align: middle;\n",
       "    }\n",
       "\n",
       "    .dataframe tbody tr th {\n",
       "        vertical-align: top;\n",
       "    }\n",
       "\n",
       "    .dataframe thead th {\n",
       "        text-align: right;\n",
       "    }\n",
       "</style>\n",
       "<table border=\"1\" class=\"dataframe\">\n",
       "  <thead>\n",
       "    <tr style=\"text-align: right;\">\n",
       "      <th></th>\n",
       "      <th>Num Respondents</th>\n",
       "      <th>Share of Total</th>\n",
       "      <th>Respondents w. HD</th>\n",
       "      <th>Share of Total w. HD</th>\n",
       "    </tr>\n",
       "    <tr>\n",
       "      <th>AgeCategory</th>\n",
       "      <th></th>\n",
       "      <th></th>\n",
       "      <th></th>\n",
       "      <th></th>\n",
       "    </tr>\n",
       "  </thead>\n",
       "  <tbody>\n",
       "    <tr>\n",
       "      <th>18-24</th>\n",
       "      <td>21064</td>\n",
       "      <td>6.59</td>\n",
       "      <td>130</td>\n",
       "      <td>0.47</td>\n",
       "    </tr>\n",
       "    <tr>\n",
       "      <th>25-29</th>\n",
       "      <td>16955</td>\n",
       "      <td>5.30</td>\n",
       "      <td>133</td>\n",
       "      <td>0.49</td>\n",
       "    </tr>\n",
       "    <tr>\n",
       "      <th>30-34</th>\n",
       "      <td>18753</td>\n",
       "      <td>5.86</td>\n",
       "      <td>226</td>\n",
       "      <td>0.83</td>\n",
       "    </tr>\n",
       "    <tr>\n",
       "      <th>35-39</th>\n",
       "      <td>20550</td>\n",
       "      <td>6.43</td>\n",
       "      <td>296</td>\n",
       "      <td>1.08</td>\n",
       "    </tr>\n",
       "    <tr>\n",
       "      <th>40-44</th>\n",
       "      <td>21006</td>\n",
       "      <td>6.57</td>\n",
       "      <td>486</td>\n",
       "      <td>1.78</td>\n",
       "    </tr>\n",
       "    <tr>\n",
       "      <th>45-49</th>\n",
       "      <td>21791</td>\n",
       "      <td>6.81</td>\n",
       "      <td>744</td>\n",
       "      <td>2.72</td>\n",
       "    </tr>\n",
       "    <tr>\n",
       "      <th>50-54</th>\n",
       "      <td>25382</td>\n",
       "      <td>7.94</td>\n",
       "      <td>1383</td>\n",
       "      <td>5.05</td>\n",
       "    </tr>\n",
       "    <tr>\n",
       "      <th>55-59</th>\n",
       "      <td>29757</td>\n",
       "      <td>9.31</td>\n",
       "      <td>2202</td>\n",
       "      <td>8.04</td>\n",
       "    </tr>\n",
       "    <tr>\n",
       "      <th>60-64</th>\n",
       "      <td>33686</td>\n",
       "      <td>10.53</td>\n",
       "      <td>3327</td>\n",
       "      <td>12.15</td>\n",
       "    </tr>\n",
       "    <tr>\n",
       "      <th>65-69</th>\n",
       "      <td>34151</td>\n",
       "      <td>10.68</td>\n",
       "      <td>4101</td>\n",
       "      <td>14.98</td>\n",
       "    </tr>\n",
       "    <tr>\n",
       "      <th>70-74</th>\n",
       "      <td>31065</td>\n",
       "      <td>9.71</td>\n",
       "      <td>4847</td>\n",
       "      <td>17.71</td>\n",
       "    </tr>\n",
       "    <tr>\n",
       "      <th>75-79</th>\n",
       "      <td>21482</td>\n",
       "      <td>6.72</td>\n",
       "      <td>4049</td>\n",
       "      <td>14.79</td>\n",
       "    </tr>\n",
       "    <tr>\n",
       "      <th>80 or older</th>\n",
       "      <td>24153</td>\n",
       "      <td>7.55</td>\n",
       "      <td>5449</td>\n",
       "      <td>19.91</td>\n",
       "    </tr>\n",
       "  </tbody>\n",
       "</table>\n",
       "</div>"
      ],
      "text/plain": [
       "             Num Respondents  Share of Total  Respondents w. HD  \\\n",
       "AgeCategory                                                       \n",
       "18-24                  21064            6.59                130   \n",
       "25-29                  16955            5.30                133   \n",
       "30-34                  18753            5.86                226   \n",
       "35-39                  20550            6.43                296   \n",
       "40-44                  21006            6.57                486   \n",
       "45-49                  21791            6.81                744   \n",
       "50-54                  25382            7.94               1383   \n",
       "55-59                  29757            9.31               2202   \n",
       "60-64                  33686           10.53               3327   \n",
       "65-69                  34151           10.68               4101   \n",
       "70-74                  31065            9.71               4847   \n",
       "75-79                  21482            6.72               4049   \n",
       "80 or older            24153            7.55               5449   \n",
       "\n",
       "             Share of Total w. HD  \n",
       "AgeCategory                        \n",
       "18-24                        0.47  \n",
       "25-29                        0.49  \n",
       "30-34                        0.83  \n",
       "35-39                        1.08  \n",
       "40-44                        1.78  \n",
       "45-49                        2.72  \n",
       "50-54                        5.05  \n",
       "55-59                        8.04  \n",
       "60-64                       12.15  \n",
       "65-69                       14.98  \n",
       "70-74                       17.71  \n",
       "75-79                       14.79  \n",
       "80 or older                 19.91  "
      ]
     },
     "execution_count": 261,
     "metadata": {},
     "output_type": "execute_result"
    }
   ],
   "source": [
    "subset1 = dataset[['AgeCategory', 'HeartDisease']]\n",
    "total_resp1 = subset1.shape[0]\n",
    "\n",
    "age_split = subset1.groupby('AgeCategory').count()\n",
    "age_split.columns = age_split.columns.str.replace('HeartDisease', 'Num Respondents')\n",
    "age_split['Share of Total'] = age_split.apply(lambda x: round((x / total_resp1) * 100, 2), axis = 0) # add new column that calculates % of total respondents by sex\n",
    "\n",
    "\n",
    "\"\"\"\n",
    "Create new dataframe breaking out respondents with heart disease, by sex.\n",
    "\n",
    "\"\"\"\n",
    "has_hd1 = subset1[subset1['HeartDisease'] == 'Yes'] # total respondents w. heart disease, broken out by age\n",
    "has_hd_total1 = has_hd1.shape[0]\n",
    "\n",
    "has_hd_age = has_hd1.groupby('AgeCategory').count()\n",
    "has_hd_age.columns = has_hd_age.columns.str.replace('HeartDisease', 'Respondents w. HD')\n",
    "has_hd_age['Share of Total w. HD'] = has_hd_age.apply(lambda x: round((x / has_hd_total1) * 100, 2), axis = 0)\n",
    "\n",
    "\"\"\"\n",
    "Concatenate both dataframes\n",
    "\"\"\"\n",
    "\n",
    "agecat_subset = pd.concat([age_split, has_hd_age], axis = 1, join = 'inner')\n",
    "\n",
    "agecat_subset\n",
    "\n"
   ]
  },
  {
   "cell_type": "code",
   "execution_count": 269,
   "id": "e83531ec",
   "metadata": {},
   "outputs": [
    {
     "data": {
      "text/plain": [
       "Text(0, 0.5, 'Respondents w. HD')"
      ]
     },
     "execution_count": 269,
     "metadata": {},
     "output_type": "execute_result"
    },
    {
     "data": {
      "image/png": "[encoded data removed]",
      "text/plain": [
       "<Figure size 432x288 with 1 Axes>"
      ]
     },
     "metadata": {
      "needs_background": "light"
     },
     "output_type": "display_data"
    }
   ],
   "source": [
    "plt.scatter(agecat_subset.index, agecat_subset['Respondents w. HD'])\n",
    "plt.xlabel('Age Category')\n",
    "plt.ylabel('Respondents w. HD')"
   ]
  },
  {
   "cell_type": "code",
   "execution_count": 239,
   "id": "a05b4057",
   "metadata": {
    "scrolled": true
   },
   "outputs": [
    {
     "data": {
      "text/html": [
       "<div>\n",
       "<style scoped>\n",
       "    .dataframe tbody tr th:only-of-type {\n",
       "        vertical-align: middle;\n",
       "    }\n",
       "\n",
       "    .dataframe tbody tr th {\n",
       "        vertical-align: top;\n",
       "    }\n",
       "\n",
       "    .dataframe thead th {\n",
       "        text-align: right;\n",
       "    }\n",
       "</style>\n",
       "<table border=\"1\" class=\"dataframe\">\n",
       "  <thead>\n",
       "    <tr style=\"text-align: right;\">\n",
       "      <th></th>\n",
       "      <th>Num Respondents</th>\n",
       "      <th>Share of Total</th>\n",
       "      <th>Respondents w. HD</th>\n",
       "      <th>Share of Total w. HD</th>\n",
       "    </tr>\n",
       "    <tr>\n",
       "      <th>Race</th>\n",
       "      <th></th>\n",
       "      <th></th>\n",
       "      <th></th>\n",
       "      <th></th>\n",
       "    </tr>\n",
       "  </thead>\n",
       "  <tbody>\n",
       "    <tr>\n",
       "      <th>American Indian/Alaskan Native</th>\n",
       "      <td>5202</td>\n",
       "      <td>1.63</td>\n",
       "      <td>542</td>\n",
       "      <td>1.98</td>\n",
       "    </tr>\n",
       "    <tr>\n",
       "      <th>Asian</th>\n",
       "      <td>8068</td>\n",
       "      <td>2.52</td>\n",
       "      <td>266</td>\n",
       "      <td>0.97</td>\n",
       "    </tr>\n",
       "    <tr>\n",
       "      <th>Black</th>\n",
       "      <td>22939</td>\n",
       "      <td>7.17</td>\n",
       "      <td>1729</td>\n",
       "      <td>6.32</td>\n",
       "    </tr>\n",
       "    <tr>\n",
       "      <th>Hispanic</th>\n",
       "      <td>27446</td>\n",
       "      <td>8.58</td>\n",
       "      <td>1443</td>\n",
       "      <td>5.27</td>\n",
       "    </tr>\n",
       "    <tr>\n",
       "      <th>Other</th>\n",
       "      <td>10928</td>\n",
       "      <td>3.42</td>\n",
       "      <td>886</td>\n",
       "      <td>3.24</td>\n",
       "    </tr>\n",
       "    <tr>\n",
       "      <th>White</th>\n",
       "      <td>245212</td>\n",
       "      <td>76.68</td>\n",
       "      <td>22507</td>\n",
       "      <td>82.22</td>\n",
       "    </tr>\n",
       "  </tbody>\n",
       "</table>\n",
       "</div>"
      ],
      "text/plain": [
       "                                Num Respondents  Share of Total  \\\n",
       "Race                                                              \n",
       "American Indian/Alaskan Native             5202            1.63   \n",
       "Asian                                      8068            2.52   \n",
       "Black                                     22939            7.17   \n",
       "Hispanic                                  27446            8.58   \n",
       "Other                                     10928            3.42   \n",
       "White                                    245212           76.68   \n",
       "\n",
       "                                Respondents w. HD  Share of Total w. HD  \n",
       "Race                                                                     \n",
       "American Indian/Alaskan Native                542                  1.98  \n",
       "Asian                                         266                  0.97  \n",
       "Black                                        1729                  6.32  \n",
       "Hispanic                                     1443                  5.27  \n",
       "Other                                         886                  3.24  \n",
       "White                                       22507                 82.22  "
      ]
     },
     "execution_count": 239,
     "metadata": {},
     "output_type": "execute_result"
    }
   ],
   "source": [
    "subset2 = dataset[['Race', 'HeartDisease']]\n",
    "total_resp2 = subset2.shape[0]\n",
    "\n",
    "race_split = subset2.groupby('Race').count()\n",
    "race_split.columns = race_split.columns.str.replace('HeartDisease', 'Num Respondents')\n",
    "race_split['Share of Total'] = race_split.apply(lambda x: round((x / total_resp2) * 100, 2), axis = 0) # add new column that calculates % of total respondents by race\n",
    "\n",
    "\n",
    "\"\"\"\n",
    "Create new dataframe breaking out respondents with heart disease, by sex.\n",
    "\n",
    "\"\"\"\n",
    "has_hd2 = subset2[subset2['HeartDisease'] == 'Yes'] # total respondents w. heart disease, broken out by race\n",
    "has_hd_total2 = has_hd2.shape[0]\n",
    "\n",
    "has_hd_race = has_hd2.groupby('Race').count()\n",
    "has_hd_race.columns = has_hd_race.columns.str.replace('HeartDisease', 'Respondents w. HD')\n",
    "has_hd_race['Share of Total w. HD'] = has_hd_race.apply(lambda x: round((x / has_hd_total2) * 100, 2), axis = 0)\n",
    "\n",
    "\"\"\"\n",
    "Concatenate both dataframes\n",
    "\"\"\"\n",
    "\n",
    "pd.concat([race_split, has_hd_race], axis = 1, join = 'inner')\n",
    "\n"
   ]
  },
  {
   "cell_type": "markdown",
   "id": "cc81ba19",
   "metadata": {},
   "source": [
    "Explore Relationship between lifestyle and presence of heart disease."
   ]
  },
  {
   "cell_type": "code",
   "execution_count": 786,
   "id": "58ea6d8f",
   "metadata": {},
   "outputs": [],
   "source": [
    "hd_ = dataset[dataset['HeartDisease'] == 'Yes']\n",
    "hd_total = hd_.shape[0]\n",
    "\n",
    "nohd_ = dataset[dataset['HeartDisease'] == 'No']\n",
    "nohd_total = nohd_.shape[0]"
   ]
  },
  {
   "cell_type": "code",
   "execution_count": 796,
   "id": "348ab1f6",
   "metadata": {
    "scrolled": true
   },
   "outputs": [
    {
     "name": "stdout",
     "output_type": "stream",
     "text": [
      "  Smoking  NumRespondents  % of Total Respondents\n",
      "0     Yes           16037                   58.59\n",
      "1      No           11336                   41.41\n",
      "  Smoking  NumRespondents  % of Total Respondents\n",
      "0      No          176551                   60.38\n",
      "1     Yes          115871                   39.62\n"
     ]
    }
   ],
   "source": [
    "#compare smoking rate\n",
    "hd_smoke = pd.DataFrame(hd_[['Smoking']].value_counts())\n",
    "hd_smoke = hd_smoke.reset_index()\n",
    "hd_smoke.columns = ['Smoking', 'NumRespondents']\n",
    "hd_smoke['% of Total Respondents'] = round(hd_smoke.NumRespondents / hd_total * 100, 2)\n",
    "\n",
    "print(hd_smoke)\n",
    "\n",
    "nohd_smoke = pd.DataFrame(nohd_[['Smoking']].value_counts())\n",
    "nohd_smoke = nohd_smoke.reset_index()\n",
    "nohd_smoke.columns = ['Smoking', 'NumRespondents']\n",
    "nohd_smoke['% of Total Respondents'] = round(nohd_smoke.NumRespondents / nohd_total * 100, 2)\n",
    "\n",
    "print(nohd_smoke)\n"
   ]
  },
  {
   "cell_type": "code",
   "execution_count": 799,
   "id": "6fe28089",
   "metadata": {
    "scrolled": true
   },
   "outputs": [
    {
     "name": "stdout",
     "output_type": "stream",
     "text": [
      "  AlcoholDrinking  NumRespondents  % of Total Respondents\n",
      "0              No           26232                   95.83\n",
      "1             Yes            1141                    4.17\n",
      "  AlcoholDrinking  NumRespondents  % of Total Respondents\n",
      "0              No          271786                   92.94\n",
      "1             Yes           20636                    7.06\n"
     ]
    }
   ],
   "source": [
    "#compare alcohol drinking rate\n",
    "hd_alcohol = pd.DataFrame(hd_[['AlcoholDrinking']].value_counts())\n",
    "hd_alcohol = hd_alcohol.reset_index()\n",
    "hd_alcohol.columns = ['AlcoholDrinking', 'NumRespondents']\n",
    "hd_alcohol['% of Total Respondents'] = round(hd_alcohol.NumRespondents / hd_total * 100, 2)\n",
    "\n",
    "print(hd_alcohol)\n",
    "\n",
    "nohd_alcohol = pd.DataFrame(nohd_[['AlcoholDrinking']].value_counts())\n",
    "nohd_alcohol = nohd_alcohol.reset_index()\n",
    "nohd_alcohol.columns = ['AlcoholDrinking', 'NumRespondents']\n",
    "nohd_alcohol['% of Total Respondents'] = round(nohd_alcohol.NumRespondents / nohd_total * 100, 2)\n",
    "\n",
    "print(nohd_alcohol)\n",
    "\n"
   ]
  },
  {
   "cell_type": "code",
   "execution_count": 1146,
   "id": "d78acf23",
   "metadata": {},
   "outputs": [
    {
     "name": "stdout",
     "output_type": "stream",
     "text": [
      "  PhysicalActivity  NumRespondents  % of Total Respondents\n",
      "0              Yes           17489                   63.89\n",
      "1               No            9884                   36.11\n",
      "  PhysicalActivity  NumRespondents  % of Total Respondents\n",
      "0              Yes          230468                   78.81\n",
      "1               No           61954                   21.19\n"
     ]
    }
   ],
   "source": [
    "#compare physical activity rate\n",
    "hd_activity = pd.DataFrame(hd_[['PhysicalActivity']].value_counts())\n",
    "hd_activity = hd_activity.reset_index()\n",
    "hd_activity.columns = ['PhysicalActivity', 'NumRespondents']\n",
    "hd_activity['% of Total Respondents'] = round(hd_activity.NumRespondents / hd_total * 100, 2)\n",
    "\n",
    "print(hd_activity)\n",
    "\n",
    "nohd_activity = pd.DataFrame(nohd_[['PhysicalActivity']].value_counts())\n",
    "nohd_activity = nohd_activity.reset_index()\n",
    "nohd_activity.columns = ['PhysicalActivity', 'NumRespondents']\n",
    "nohd_activity['% of Total Respondents'] = round(nohd_activity.NumRespondents / nohd_total * 100, 2)\n",
    "\n",
    "print(nohd_activity)"
   ]
  },
  {
   "cell_type": "code",
   "execution_count": 1078,
   "id": "fd4d4650",
   "metadata": {
    "scrolled": true
   },
   "outputs": [
    {
     "name": "stdout",
     "output_type": "stream",
     "text": [
      "7.0\n",
      "7.0\n"
     ]
    }
   ],
   "source": [
    "#compare sleep time\n",
    "hd_med_st = hd_[hd_['SleepTime'] <= 12].SleepTime.median()\n",
    "nohd_med_st = nohd_[nohd_['SleepTime'] <= 12].SleepTime.median()\n",
    "\n",
    "print(hd_med_st)\n",
    "print(nohd_med_st)"
   ]
  },
  {
   "cell_type": "code",
   "execution_count": 1149,
   "id": "d9e2aefa",
   "metadata": {
    "scrolled": false
   },
   "outputs": [
    {
     "name": "stderr",
     "output_type": "stream",
     "text": [
      "/var/folders/s8/vggb8y7d5d9g80zjhkq3yrnw00k1r5/T/ipykernel_803/2431131641.py:17: SettingWithCopyWarning: \n",
      "A value is trying to be set on a copy of a slice from a DataFrame.\n",
      "Try using .loc[row_indexer,col_indexer] = value instead\n",
      "\n",
      "See the caveats in the documentation: https://pandas.pydata.org/pandas-docs/stable/user_guide/indexing.html#returning-a-view-versus-a-copy\n",
      "  bmi_split['BMI_Range'] = bmi_split.BMI.map(lambda x: segments(x))\n",
      "/var/folders/s8/vggb8y7d5d9g80zjhkq3yrnw00k1r5/T/ipykernel_803/2431131641.py:19: FutureWarning: In a future version of pandas all arguments of DataFrame.drop except for the argument 'labels' will be keyword-only\n",
      "  bmi_split_hd = bmi_split[bmi_split['HeartDisease'] == 'Yes'].groupby('BMI_Range').count().drop('BMI', 1)\n",
      "/var/folders/s8/vggb8y7d5d9g80zjhkq3yrnw00k1r5/T/ipykernel_803/2431131641.py:22: FutureWarning: In a future version of pandas all arguments of DataFrame.drop except for the argument 'labels' will be keyword-only\n",
      "  bmi_split_nohd = bmi_split[bmi_split['HeartDisease'] == 'No'].groupby('BMI_Range').count().drop('BMI', 1)\n"
     ]
    },
    {
     "data": {
      "text/html": [
       "<div>\n",
       "<style scoped>\n",
       "    .dataframe tbody tr th:only-of-type {\n",
       "        vertical-align: middle;\n",
       "    }\n",
       "\n",
       "    .dataframe tbody tr th {\n",
       "        vertical-align: top;\n",
       "    }\n",
       "\n",
       "    .dataframe thead th {\n",
       "        text-align: right;\n",
       "    }\n",
       "</style>\n",
       "<table border=\"1\" class=\"dataframe\">\n",
       "  <thead>\n",
       "    <tr style=\"text-align: right;\">\n",
       "      <th></th>\n",
       "      <th>Has_HeartDisease</th>\n",
       "      <th>No_HeartDisease</th>\n",
       "      <th>% with Heart Disease</th>\n",
       "    </tr>\n",
       "    <tr>\n",
       "      <th>BMI_Range</th>\n",
       "      <th></th>\n",
       "      <th></th>\n",
       "      <th></th>\n",
       "    </tr>\n",
       "  </thead>\n",
       "  <tbody>\n",
       "    <tr>\n",
       "      <th>10-20</th>\n",
       "      <td>963</td>\n",
       "      <td>13670</td>\n",
       "      <td>2.346320</td>\n",
       "    </tr>\n",
       "    <tr>\n",
       "      <th>20-30</th>\n",
       "      <td>15738</td>\n",
       "      <td>186582</td>\n",
       "      <td>7.355752</td>\n",
       "    </tr>\n",
       "    <tr>\n",
       "      <th>30-40</th>\n",
       "      <td>8860</td>\n",
       "      <td>77597</td>\n",
       "      <td>8.440507</td>\n",
       "    </tr>\n",
       "    <tr>\n",
       "      <th>40-50</th>\n",
       "      <td>1524</td>\n",
       "      <td>12344</td>\n",
       "      <td>3.837148</td>\n",
       "    </tr>\n",
       "    <tr>\n",
       "      <th>50+</th>\n",
       "      <td>288</td>\n",
       "      <td>2229</td>\n",
       "      <td>0.972907</td>\n",
       "    </tr>\n",
       "  </tbody>\n",
       "</table>\n",
       "</div>"
      ],
      "text/plain": [
       "           Has_HeartDisease  No_HeartDisease  % with Heart Disease\n",
       "BMI_Range                                                         \n",
       "10-20                   963            13670              2.346320\n",
       "20-30                 15738           186582              7.355752\n",
       "30-40                  8860            77597              8.440507\n",
       "40-50                  1524            12344              3.837148\n",
       "50+                     288             2229              0.972907"
      ]
     },
     "execution_count": 1149,
     "metadata": {},
     "output_type": "execute_result"
    }
   ],
   "source": [
    "#compare BMI \n",
    "\n",
    "def segments(x): #segment BMI values into ranges\n",
    "    if 10 <= x < 20: \n",
    "         return'10-20'\n",
    "    elif 20 <= x < 30: \n",
    "        return'20-30'\n",
    "    elif 30 <= x < 40: \n",
    "        return'30-40'\n",
    "    elif 40 <= x < 50: \n",
    "        return'40-50'\n",
    "    else:\n",
    "        return'50+' \n",
    "    \n",
    "    \n",
    "bmi_split = dataset[['HeartDisease', 'BMI']]\n",
    "bmi_split['BMI_Range'] = bmi_split.BMI.map(lambda x: segments(x))\n",
    "\n",
    "bmi_split_hd = bmi_split[bmi_split['HeartDisease'] == 'Yes'].groupby('BMI_Range').count().drop('BMI', 1)\n",
    "bmi_split_hd.columns = ['Has_HeartDisease']\n",
    "\n",
    "bmi_split_nohd = bmi_split[bmi_split['HeartDisease'] == 'No'].groupby('BMI_Range').count().drop('BMI', 1)\n",
    "bmi_split_nohd.columns = ['No_HeartDisease']\n",
    "\n",
    "bmi_merged = pd.merge(bmi_split_hd, bmi_split_nohd, on = 'BMI_Range')\n",
    "bmi_merged['% with Heart Disease'] = bmi_merged.Has_HeartDisease / sum(bmi_merged.Has_HeartDisease, bmi_merged.No_HeartDisease) * 100\n",
    "bmi_merged"
   ]
  },
  {
   "cell_type": "markdown",
   "id": "9bb65e06",
   "metadata": {},
   "source": [
    "Finally, analyze data to see if the rates of heart disease increase along with the rates of other serious medical conditions—most notably stroke and diabetes.  "
   ]
  },
  {
   "cell_type": "code",
   "execution_count": 997,
   "id": "6600c49d",
   "metadata": {
    "scrolled": true
   },
   "outputs": [],
   "source": [
    "excond = dataset[['HeartDisease', 'Stroke', 'Diabetic', 'Asthma', 'KidneyDisease', 'SkinCancer']]"
   ]
  },
  {
   "cell_type": "code",
   "execution_count": 1045,
   "id": "f689079c",
   "metadata": {
    "scrolled": false
   },
   "outputs": [
    {
     "name": "stdout",
     "output_type": "stream",
     "text": [
      "        Num_Respondents  % of Total Respondents\n",
      "Stroke                                         \n",
      "No                22984                   83.97\n",
      "Yes                4389                   16.03\n",
      "        Num_Respondents  % of Total Respondents\n",
      "Stroke                                         \n",
      "No               284742                   97.37\n",
      "Yes                7680                    2.63\n"
     ]
    }
   ],
   "source": [
    "stro_hd = excond[['HeartDisease', 'Stroke']][excond['HeartDisease'] == 'Yes'].groupby('Stroke').count()\n",
    "stro_hd['% of Total Respondents'] = round(stro_hd.HeartDisease / sum(stro_hd.HeartDisease) * 100, 2)\n",
    "stro_hd.columns = ['Num_Respondents', '% of Total Respondents']\n",
    "print(stro_hd)\n",
    "\n",
    "stro_nohd = excond[['HeartDisease', 'Stroke']][excond['HeartDisease'] == 'No'].groupby('Stroke').count()\n",
    "stro_nohd['% of Total Respondents'] = round(stro_nohd.HeartDisease / sum(stro_nohd.HeartDisease) * 100, 2)\n",
    "stro_nohd.columns = ['Num_Respondents', '% of Total Respondents']\n",
    "print(stro_nohd)\n"
   ]
  },
  {
   "cell_type": "code",
   "execution_count": 1042,
   "id": "6e13fca2",
   "metadata": {},
   "outputs": [
    {
     "name": "stdout",
     "output_type": "stream",
     "text": [
      "                         Num_Respondents  % of Total Respondents\n",
      "Diabetic                                                        \n",
      "No                                 17519                   64.00\n",
      "No, borderline diabetes              789                    2.88\n",
      "Yes                                 8957                   32.72\n",
      "Yes (during pregnancy)               108                    0.39\n",
      "                         Num_Respondents  % of Total Respondents\n",
      "Diabetic                                                        \n",
      "No                                252134                   86.22\n",
      "No, borderline diabetes             5992                    2.05\n",
      "Yes                                31845                   10.89\n",
      "Yes (during pregnancy)              2451                    0.84\n"
     ]
    }
   ],
   "source": [
    "diab_hd = excond[['HeartDisease', 'Diabetic']][excond['HeartDisease'] == 'Yes'].groupby('Diabetic').count()\n",
    "diab_hd['% of Total Respondents'] = round(diab_hd.HeartDisease / sum(diab_hd.HeartDisease) * 100, 2)\n",
    "diab_hd.columns = ['Num_Respondents', '% of Total Respondents']\n",
    "print(diab_hd)\n",
    "\n",
    "diab_nohd = excond[['HeartDisease', 'Diabetic']][excond['HeartDisease'] == 'No'].groupby('Diabetic').count()\n",
    "diab_nohd['% of Total Respondents'] = round(diab_nohd.HeartDisease / sum(diab_nohd.HeartDisease) * 100, 2)\n",
    "diab_nohd.columns = ['Num_Respondents', '% of Total Respondents']\n",
    "print(diab_nohd)\n"
   ]
  }
 ],
 "metadata": {
  "kernelspec": {
   "display_name": "Python 3 (ipykernel)",
   "language": "python",
   "name": "python3"
  },
  "language_info": {
   "codemirror_mode": {
    "name": "ipython",
    "version": 3
   },
   "file_extension": ".py",
   "mimetype": "text/x-python",
   "name": "python",
   "nbconvert_exporter": "python",
   "pygments_lexer": "ipython3",
   "version": "3.9.7"
  }
 },
 "nbformat": 4,
 "nbformat_minor": 5
}
